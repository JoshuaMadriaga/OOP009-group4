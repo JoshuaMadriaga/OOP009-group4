{
  "nbformat": 4,
  "nbformat_minor": 0,
  "metadata": {
    "colab": {
      "provenance": [],
      "authorship_tag": "ABX9TyP9dt58sQqbPa3qLutQyx7U",
      "include_colab_link": true
    },
    "kernelspec": {
      "name": "python3",
      "display_name": "Python 3"
    },
    "language_info": {
      "name": "python"
    }
  },
  "cells": [
    {
      "cell_type": "markdown",
      "metadata": {
        "id": "view-in-github",
        "colab_type": "text"
      },
      "source": [
        "<a href=\"https://colab.research.google.com/github/JoshuaMadriaga/OOP009-group4/blob/main/HOA1.2.ipynb\" target=\"_parent\"><img src=\"https://colab.research.google.com/assets/colab-badge.svg\" alt=\"Open In Colab\"/></a>"
      ]
    },
    {
      "cell_type": "code",
      "execution_count": 1,
      "metadata": {
        "colab": {
          "base_uri": "https://localhost:8080/"
        },
        "id": "h8kJ7Ih_4dBT",
        "outputId": "d01b85d0-a90e-4638-9d21-4118db0e243e"
      },
      "outputs": [
        {
          "output_type": "stream",
          "name": "stdout",
          "text": [
            "------------------------------------------\n",
            "-----PRELIM DATA INPUT-----\n",
            "PRELIM EXAM DATA: 80\n",
            "PRELIM HANDS ON ACTIVITIES DATA: 50\n",
            "PRELIM QUIZES DATA: 20\n",
            "PRELIM ASSIGNMENTS DATA: 20\n",
            "-----MIDTERM DATA INPUT-----\n",
            "MIDTERM EXAM DATA: 90\n",
            "MIDTERM HANDS ON ACTIVITIES DATA: 2\n",
            "MIDTERM QUIZES DATA: 800\n",
            "MIDTERM ASSIGNMENTS DATA: 20\n",
            "-----FINALS DATA INPUT-----\n",
            "FINALS EXAM DATA: 50\n",
            "FINALS HANDS ON ACTIVITIES DATA: 30\n",
            "FINALS QUIZES DATA: 20\n",
            "FINALS ASSIGNMENTS DATA: 10\n",
            "------------------------------------------\n",
            "------------------------------------------\n",
            "Prelim Class Standing: 35.0\n",
            "Prelim Grade:  57.5\n",
            "------------------------------------------\n",
            "Midterm Class Standing: 245.0\n",
            "Midterm Grade:  129.525\n",
            "------------------------------------------\n",
            "Finals Class Standing: 23.0\n",
            "Finals Grade:  66.83325\n",
            "------------------------------------------\n"
          ]
        }
      ],
      "source": [
        " print(\"------------------------------------------\")\n",
        " #user interface for prelim data input\n",
        " print(\"-----PRELIM DATA INPUT-----\")\n",
        " preEx = float(input(\"PRELIM EXAM DATA: \"))\n",
        " pHoA = float(input(\"PRELIM HANDS ON ACTIVITIES DATA: \"))\n",
        " pQuiz = float(input(\"PRELIM QUIZES DATA: \"))\n",
        " pAss = float(input(\"PRELIM ASSIGNMENTS DATA: \"))\n",
        " #user interface for midterm data input\n",
        " print(\"-----MIDTERM DATA INPUT-----\")\n",
        " midEx = float(input(\"MIDTERM EXAM DATA: \"))\n",
        " mHoA = float(input(\"MIDTERM HANDS ON ACTIVITIES DATA: \"))\n",
        " mQuiz = float(input(\"MIDTERM QUIZES DATA: \"))\n",
        " mAss = float(input(\"MIDTERM ASSIGNMENTS DATA: \"))\n",
        " #user interface for finals data input\n",
        " print(\"-----FINALS DATA INPUT-----\")\n",
        " finEx = float(input(\"FINALS EXAM DATA: \"))\n",
        " fHoA = float(input(\"FINALS HANDS ON ACTIVITIES DATA: \"))\n",
        " fQuiz = float(input(\"FINALS QUIZES DATA: \"))\n",
        " fAss = float(input(\"FINALS ASSIGNMENTS DATA: \"))\n",
        " print(\"------------------------------------------\")\n",
        "  #this section computes for the prelim grade and class standing\n",
        " preCS = pHoA * 0.5 + pQuiz * 0.3 + pAss * 0.2\n",
        " preGrade =  preEx * 0.5 + preCS  * 0.5\n",
        " #this section computes for the midterm grade and class standing\n",
        " midCS = mHoA * 0.5 + mQuiz * 0.3 + mAss * 0.2\n",
        " midGrade = preGrade * 0.33 + (midEx * 0.5 + midCS * 0.5) * 0.66\n",
        " #this section computes for the final grade and class standing\n",
        " finCS = fHoA * 0.5 + fQuiz * 0.3 + fAss * 0.2\n",
        " finGrade = midGrade * 0.33 + (finEx * 0.5 + finCS * 0.5) * 0.66\n",
        " #finally, this sections outputs all the data after the procedure\n",
        " print(\"------------------------------------------\")\n",
        " print(\"Prelim Class Standing:\", preCS)\n",
        " print(\"Prelim Grade: \", preGrade)\n",
        " print(\"------------------------------------------\")\n",
        " print(\"Midterm Class Standing:\", midCS)\n",
        " print(\"Midterm Grade: \", midGrade)\n",
        " print(\"------------------------------------------\")\n",
        " print(\"Finals Class Standing:\", finCS)\n",
        " print(\"Finals Grade: \", finGrade)\n",
        " print(\"------------------------------------------\")"
      ]
    }
  ]
}