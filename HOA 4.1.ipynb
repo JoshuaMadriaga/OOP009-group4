{
  "nbformat": 4,
  "nbformat_minor": 0,
  "metadata": {
    "colab": {
      "provenance": [],
      "include_colab_link": true
    },
    "kernelspec": {
      "name": "python3",
      "display_name": "Python 3"
    },
    "language_info": {
      "name": "python"
    }
  },
  "cells": [
    {
      "cell_type": "markdown",
      "metadata": {
        "id": "view-in-github",
        "colab_type": "text"
      },
      "source": [
        "<a href=\"https://colab.research.google.com/github/JoshuaMadriaga/OOP009-group4/blob/main/HOA%204.1.ipynb\" target=\"_parent\"><img src=\"https://colab.research.google.com/assets/colab-badge.svg\" alt=\"Open In Colab\"/></a>"
      ]
    },
    {
      "cell_type": "markdown",
      "source": [
        "**Simple Word Filter**\n",
        "1. Create a function that would accept two inputs: a sentence(string), and a list containing bad words that the user would\n",
        "like to censor but not remove. The function should return the newly filtered sentence wherein the bad words are\n",
        "replaced with asterisks equal to the length of the censored word."
      ],
      "metadata": {
        "id": "HhdCLDnD0QJM"
      }
    },
    {
      "cell_type": "code",
      "source": [
        "def censor_words(sentence, bad_words):\n",
        "    words = sentence.split()\n",
        "    censored_sentence = []\n",
        "    for word in words:\n",
        "        if word.lower() in bad_words:\n",
        "            censored_word = '*' * len(word)\n",
        "            censored_sentence.append(censored_word)\n",
        "        else:\n",
        "            censored_sentence.append(word)\n",
        "    return ' '.join(censored_sentence)\n",
        "\n",
        "\n",
        "sentence = input(\"Type a sentence: \\n\")\n",
        "bad = input(\"Select a word to filter:\")\n",
        "bad_words = [bad]\n",
        "filtered_sentence = censor_words(sentence, bad_words)\n",
        "print(filtered_sentence)  # Output: \"I don't want to **** any *** words in this conversation.\"\n"
      ],
      "metadata": {
        "colab": {
          "base_uri": "https://localhost:8080/"
        },
        "id": "RqxkKYbAtT5e",
        "outputId": "7a13f163-038b-46ba-93ff-bae92d7ebf42"
      },
      "execution_count": null,
      "outputs": [
        {
          "output_type": "stream",
          "name": "stdout",
          "text": [
            "Type a sentence: \n",
            "I would like a cheeseburger\n",
            "Select a word to filter:cheeseburger\n",
            "I would like a ************\n"
          ]
        }
      ]
    },
    {
      "cell_type": "markdown",
      "source": [
        "Given a certain Physics problem create a function(projectilemotion_solver) that would take in the following inputs below\n",
        "and return the needed information when the function is called. Name the program containing the function\n",
        "projectilemotion.py then create another program main_program.py and import projectilemotion.py\n",
        "“A long jumper leaves the ground at an angle of 20.0° above the horizontal and at a speed of 11.0 m/s. “\n",
        "(a) How far does he jump in the horizontal direction?\n",
        "(b) What is the maximum height reached?\n",
        "Given a projectile motion problem like this where the angle and speed are given, the range or distance travelled in\n",
        "\n",
        "the horizontal direction can be determined by using the formula:\n",
        "𝑅 =\n",
        "𝑣𝑖\n",
        "2\n",
        "𝑠𝑖𝑛2𝜃𝑖 /\n",
        "𝑔\n",
        "\n",
        "The maximum height can be determined using the formula:\n",
        "ℎ =\n",
        "𝑣𝑖\n",
        "2\n",
        "𝑠𝑖𝑛2𝜃𝑖 /\n",
        "2g"
      ],
      "metadata": {
        "id": "2_p8fO-T0aO6"
      }
    },
    {
      "cell_type": "code",
      "source": [
        "#projectilemotion_solver.py\n",
        "import math\n",
        "\n",
        "def projectilemotion_solver(angle_deg, speed_mps):\n",
        "    angle_rad = math.radians(angle_deg)  # Convert angle from degrees to radians\n",
        "    g = 9.81  # Acceleration due to gravity in m/s^2\n",
        "\n",
        "    # Calculate horizontal distance (range)\n",
        "    range_horizontal = (speed_mps ** 2) * math.sin(2 * angle_rad) / g\n",
        "\n",
        "    # Calculate maximum height\n",
        "    max_height = (speed_mps ** 2) * (math.sin(angle_rad) ** 2) / (2 * g)\n",
        "\n",
        "    return range_horizontal, max_height\n",
        "\n",
        "\n",
        "#main_program.py\n",
        "\n",
        "#from projectilemotion_solver import projectilemotion_solver\n",
        "angle = 20.0  # Angle in degrees\n",
        "speed = 11.0  # Speed in m/s\n",
        "\n",
        "range_horizontal, max_height = projectilemotion_solver(angle, speed)\n",
        "\n",
        "print(f\"Horizontal Distance: {range_horizontal:.2f} meters\")\n",
        "print(f\"Maximum Height: {max_height:.2f} meters\")"
      ],
      "metadata": {
        "colab": {
          "base_uri": "https://localhost:8080/"
        },
        "id": "2Qc-P2bWzZG8",
        "outputId": "7fbc6307-290c-41ff-9d07-3fecca46542e"
      },
      "execution_count": null,
      "outputs": [
        {
          "output_type": "stream",
          "name": "stdout",
          "text": [
            "Horizontal Distance: 7.93 meters\n",
            "Maximum Height: 0.72 meters\n"
          ]
        }
      ]
    },
    {
      "cell_type": "markdown",
      "source": [
        "Create a quadratic equation solver module that would write the inputs of the user and the corresponding output into\n",
        "text files."
      ],
      "metadata": {
        "id": "LzPHza3E1mdI"
      }
    },
    {
      "cell_type": "code",
      "source": [
        "import math\n",
        "\n",
        "def solve_quadratic(a, b, c):\n",
        "    # Calculate discriminant\n",
        "    discriminant = b**2 - 4*a*c\n",
        "\n",
        "    # Check if the discriminant is positive, zero, or negative\n",
        "    if discriminant > 0:\n",
        "        root1 = (-b + math.sqrt(discriminant)) / (2*a)\n",
        "        root2 = (-b - math.sqrt(discriminant)) / (2*a)\n",
        "        return root1, root2\n",
        "    elif discriminant == 0:\n",
        "        root = -b / (2*a)\n",
        "        return root, root\n",
        "    else:\n",
        "        real_part = -b / (2*a)\n",
        "        imaginary_part = math.sqrt(abs(discriminant)) / (2*a)\n",
        "        return f\"{real_part} + {imaginary_part}i\", f\"{real_part} - {imaginary_part}i\"\n",
        "\n",
        "def write_to_file(inputs, outputs):\n",
        "    with open('quadratic_inputs.txt', 'a') as input_file:\n",
        "        input_file.write(str(inputs) + '\\n')\n",
        "    with open('quadratic_outputs.txt', 'a') as output_file:\n",
        "        output_file.write(str(outputs) + '\\n')\n",
        "\n",
        "# Get inputs from the user\n",
        "a = float(input(\"Enter the coefficient of x^2: \"))\n",
        "b = float(input(\"Enter the coefficient of x: \"))\n",
        "c = float(input(\"Enter the constant term: \"))\n",
        "\n",
        "# Solve the quadratic equation\n",
        "roots = solve_quadratic(a, b, c)\n",
        "\n",
        "# Print and write inputs and outputs to text files\n",
        "print(f\"The roots of the quadratic equation {a}x^2 + {b}x + {c} = 0 are:\", roots)\n",
        "write_to_file((a, b, c), roots)"
      ],
      "metadata": {
        "colab": {
          "base_uri": "https://localhost:8080/"
        },
        "id": "ccDOohRr0swN",
        "outputId": "71faee68-695c-4082-e172-5a052686f8dc"
      },
      "execution_count": null,
      "outputs": [
        {
          "output_type": "stream",
          "name": "stdout",
          "text": [
            "Enter the coefficient of x^2: 3\n",
            "Enter the coefficient of x: 1\n",
            "Enter the constant term: 1\n",
            "The roots of the quadratic equation 3.0x^2 + 1.0x + 1.0 = 0 are: ('-0.16666666666666666 + 0.5527707983925666i', '-0.16666666666666666 - 0.5527707983925666i')\n"
          ]
        }
      ]
    }
  ]
}