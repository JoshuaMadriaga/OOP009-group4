{
  "nbformat": 4,
  "nbformat_minor": 0,
  "metadata": {
    "colab": {
      "provenance": [],
      "authorship_tag": "ABX9TyNvvd5EQ6VxswBTpRlM+ChT",
      "include_colab_link": true
    },
    "kernelspec": {
      "name": "python3",
      "display_name": "Python 3"
    },
    "language_info": {
      "name": "python"
    }
  },
  "cells": [
    {
      "cell_type": "markdown",
      "metadata": {
        "id": "view-in-github",
        "colab_type": "text"
      },
      "source": [
        "<a href=\"https://colab.research.google.com/github/JoshuaMadriaga/OOP009-group4/blob/main/HOA1.1.ipynb\" target=\"_parent\"><img src=\"https://colab.research.google.com/assets/colab-badge.svg\" alt=\"Open In Colab\"/></a>"
      ]
    },
    {
      "cell_type": "code",
      "source": [
        "value = 5\n",
        "print(value)\n"
      ],
      "metadata": {
        "colab": {
          "base_uri": "https://localhost:8080/"
        },
        "id": "BUB3PME-2Xhb",
        "outputId": "0b353cde-a195-4348-984b-1764681660b8"
      },
      "execution_count": 3,
      "outputs": [
        {
          "output_type": "stream",
          "name": "stdout",
          "text": [
            "5\n"
          ]
        }
      ]
    },
    {
      "cell_type": "code",
      "source": [
        "value = 5.0\n",
        "print(value)\n"
      ],
      "metadata": {
        "colab": {
          "base_uri": "https://localhost:8080/"
        },
        "id": "85qdZapC2Yu5",
        "outputId": "b0826bf4-88fe-4350-d978-2c062e3e1d75"
      },
      "execution_count": 2,
      "outputs": [
        {
          "output_type": "stream",
          "name": "stdout",
          "text": [
            "5.0\n"
          ]
        }
      ]
    },
    {
      "cell_type": "code",
      "source": [
        "value = 2+3j\n",
        "print(value)\n"
      ],
      "metadata": {
        "colab": {
          "base_uri": "https://localhost:8080/"
        },
        "id": "YSdocZqr2bk6",
        "outputId": "72a4ba4f-459f-4310-aaac-4a1c933e24df"
      },
      "execution_count": 31,
      "outputs": [
        {
          "output_type": "stream",
          "name": "stdout",
          "text": [
            "(2+3j)\n"
          ]
        }
      ]
    },
    {
      "cell_type": "code",
      "source": [
        "value = \"Hello World\"\n",
        "print(value)\n"
      ],
      "metadata": {
        "colab": {
          "base_uri": "https://localhost:8080/"
        },
        "id": "sMf6p2Wa2czs",
        "outputId": "2c0580c9-dcac-41b4-bd34-48b25b1bd3d5"
      },
      "execution_count": 30,
      "outputs": [
        {
          "output_type": "stream",
          "name": "stdout",
          "text": [
            "Hello World\n"
          ]
        }
      ]
    },
    {
      "cell_type": "code",
      "source": [
        "value = True\n",
        "print(value)\n"
      ],
      "metadata": {
        "colab": {
          "base_uri": "https://localhost:8080/"
        },
        "id": "-Nm0ZGWm2eM3",
        "outputId": "739e8bf9-2e59-42c8-f740-5c12500762da"
      },
      "execution_count": 29,
      "outputs": [
        {
          "output_type": "stream",
          "name": "stdout",
          "text": [
            "True\n"
          ]
        }
      ]
    },
    {
      "cell_type": "code",
      "source": [
        "value = False\n",
        "print(value)\n"
      ],
      "metadata": {
        "colab": {
          "base_uri": "https://localhost:8080/"
        },
        "id": "M89YTSeP2fn5",
        "outputId": "6fcec0f6-89c1-4d1d-a4a2-d3acc2ecfa18"
      },
      "execution_count": 28,
      "outputs": [
        {
          "output_type": "stream",
          "name": "stdout",
          "text": [
            "False\n"
          ]
        }
      ]
    },
    {
      "cell_type": "code",
      "source": [
        "value = [1,2,3,4,5]\n",
        "print(value)\n"
      ],
      "metadata": {
        "colab": {
          "base_uri": "https://localhost:8080/"
        },
        "id": "tQAKoFdm2hCj",
        "outputId": "8e1b4f59-8af7-42ad-f16f-830a3b024b48"
      },
      "execution_count": 27,
      "outputs": [
        {
          "output_type": "stream",
          "name": "stdout",
          "text": [
            "[1, 2, 3, 4, 5]\n"
          ]
        }
      ]
    },
    {
      "cell_type": "code",
      "source": [
        "value = (1,2,3,4,5)\n",
        "print(value)\n"
      ],
      "metadata": {
        "colab": {
          "base_uri": "https://localhost:8080/"
        },
        "id": "l9DFx6Rh2i7W",
        "outputId": "9825a712-aa8f-4354-cf43-1a8e466acb25"
      },
      "execution_count": 26,
      "outputs": [
        {
          "output_type": "stream",
          "name": "stdout",
          "text": [
            "(1, 2, 3, 4, 5)\n"
          ]
        }
      ]
    },
    {
      "cell_type": "code",
      "source": [
        "value = {\"name:Russelle Anne M. Pituc\"}\n",
        "print(value)\n"
      ],
      "metadata": {
        "colab": {
          "base_uri": "https://localhost:8080/"
        },
        "id": "q3OjM5gA2kTO",
        "outputId": "db2c8c04-2935-473a-e03e-5a86c81bbc83"
      },
      "execution_count": 25,
      "outputs": [
        {
          "output_type": "stream",
          "name": "stdout",
          "text": [
            "{'name:Russelle Anne M. Pituc'}\n"
          ]
        }
      ]
    },
    {
      "cell_type": "code",
      "source": [
        "value = None\n",
        "print(value)\n"
      ],
      "metadata": {
        "colab": {
          "base_uri": "https://localhost:8080/"
        },
        "id": "G4zTZqa-2lXI",
        "outputId": "04ac438c-d344-4aa9-9690-f1461473b9eb"
      },
      "execution_count": 24,
      "outputs": [
        {
          "output_type": "stream",
          "name": "stdout",
          "text": [
            "None\n"
          ]
        }
      ]
    },
    {
      "cell_type": "code",
      "source": [
        "value = 5\n",
        "value2 = -6\n",
        "print(value + value2)\n"
      ],
      "metadata": {
        "colab": {
          "base_uri": "https://localhost:8080/"
        },
        "id": "7ENXilh72rV3",
        "outputId": "ddb120f6-baab-41c5-a7c9-fa91a9c33fca"
      },
      "execution_count": 23,
      "outputs": [
        {
          "output_type": "stream",
          "name": "stdout",
          "text": [
            "-1\n"
          ]
        }
      ]
    },
    {
      "cell_type": "code",
      "source": [
        "value = 5.0\n",
        "value2 = 6.1\n",
        "print(value + value2)\n"
      ],
      "metadata": {
        "colab": {
          "base_uri": "https://localhost:8080/"
        },
        "id": "b1r5RCwa2s8b",
        "outputId": "ea3b844d-fc5f-48a8-c87e-b0c2c211b9cd"
      },
      "execution_count": 22,
      "outputs": [
        {
          "output_type": "stream",
          "name": "stdout",
          "text": [
            "11.1\n"
          ]
        }
      ]
    },
    {
      "cell_type": "code",
      "source": [
        "value, value2 = [1, 2, 3], [4, 5, 6]\n",
        "print(value + value2)\n"
      ],
      "metadata": {
        "colab": {
          "base_uri": "https://localhost:8080/"
        },
        "id": "zfpx7STc2t4v",
        "outputId": "6d990379-9bad-44f2-cd3a-6ffd795fdeae"
      },
      "execution_count": 21,
      "outputs": [
        {
          "output_type": "stream",
          "name": "stdout",
          "text": [
            "[1, 2, 3, 4, 5, 6]\n"
          ]
        }
      ]
    },
    {
      "cell_type": "code",
      "source": [
        "value, value2 = 30, 4\n",
        "#a. print(value*value2)\n",
        "print(value * value2)\n",
        "# b. print(value2**2)\n",
        "print(value2 ** 2)\n",
        "# c. print(value2**3)\n",
        "print(value2 ** 3)\n",
        "# d. print(value*value2+value2**2+1)\n",
        "print(value * value2 + value2 ** 2 + 1)\n",
        "# e. print(value/value2)\n",
        "print(value / value2)\n",
        "# f. print(value%value2)\n",
        "print(value % value2)\n"
      ],
      "metadata": {
        "colab": {
          "base_uri": "https://localhost:8080/"
        },
        "id": "kO9vsZzJ2vxa",
        "outputId": "9319294f-0129-4bf9-bb19-88d3b87087d0"
      },
      "execution_count": 20,
      "outputs": [
        {
          "output_type": "stream",
          "name": "stdout",
          "text": [
            "120\n",
            "16\n",
            "64\n",
            "137\n",
            "7.5\n",
            "2\n"
          ]
        }
      ]
    },
    {
      "cell_type": "code",
      "source": [
        "name = input(\"Enter your name: \")\n",
        "weight = float(input(\"Enter your weight in kilograms: \"))\n",
        "height = float(input(\"Enter your height in meters: \"))\n",
        "bmi = weight / (height ** 2)\n",
        "print(f\"{name}'s BMI is: {bmi}\")\n"
      ],
      "metadata": {
        "colab": {
          "base_uri": "https://localhost:8080/"
        },
        "id": "C7pilqSA2w83",
        "outputId": "581580c9-90e2-4c7c-b5b8-dc62ddf89901"
      },
      "execution_count": 19,
      "outputs": [
        {
          "output_type": "stream",
          "name": "stdout",
          "text": [
            "Enter your name: joshua\n",
            "Enter your weight in kilograms: 70\n",
            "Enter your height in meters: 20\n",
            "joshua's BMI is: 0.175\n"
          ]
        }
      ]
    },
    {
      "cell_type": "code",
      "source": [
        "def main():\n",
        "  base = 12\n",
        "  height = 8\n",
        "  area = 16\n",
        "  base = float(input(\"Enter the base of the triangle: \"))\n",
        "  height = float(input(\"Enter the height of the triangle: \"))\n",
        "  area = (1/2) * base * height\n",
        "  print(\"The area of the triangle is\", area)\n",
        "def celsius_to_fahrenheit(celsius):\n",
        "  \"\"\"\n",
        "  Convert Celsius to Fahrenheit.\n",
        "  Args:\n",
        "  celsius (float): Temperature in Celsius.\n",
        "  Returns:\n",
        "  float: Temperature in Fahrenheit.\n",
        "  \"\"\"\n",
        "  fahrenheit = (celsius * 9/5) + 32\n",
        "  return fahrenheit\n",
        "  celsius_values = [0, -20]\n",
        "  for celsius in celsius_values:\n",
        "    fahrenheit = celsius_to_fahrenheit(celsius)\n",
        "    print(f\"{celsius}°C = {fahrenheit}°F\")\n"
      ],
      "metadata": {
        "id": "ORdvLv_y2z0j"
      },
      "execution_count": 7,
      "outputs": []
    },
    {
      "cell_type": "code",
      "source": [
        "def calculate_distance(x1, y1, x2, y2):\n",
        "\n",
        "  distance = ((x2 - x1) ** 2 + (y2 - y1) ** 2) ** 0.5\n",
        "  return distance\n",
        "\n",
        "x1, y1 = 2, 2\n",
        "x2, y2 = -3, 3\n",
        "distance = calculate_distance(x1, y1, x2, y2)\n",
        "print(f\"The distance between ({x1}, {y1}) and ({x2}, {y2}) is {distance}\")\n",
        "\n"
      ],
      "metadata": {
        "colab": {
          "base_uri": "https://localhost:8080/"
        },
        "id": "u9IKSBzt21HF",
        "outputId": "fd5d7d51-3cd5-4107-af61-5bcde3e98ab0"
      },
      "execution_count": 17,
      "outputs": [
        {
          "output_type": "stream",
          "name": "stdout",
          "text": [
            "The distance between (2, 2) and (-3, 3) is 5.0990195135927845\n"
          ]
        }
      ]
    }
  ]
}