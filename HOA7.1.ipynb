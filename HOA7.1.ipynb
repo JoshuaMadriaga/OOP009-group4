{
  "nbformat": 4,
  "nbformat_minor": 0,
  "metadata": {
    "colab": {
      "provenance": [],
      "authorship_tag": "ABX9TyNuQlz0PJgGac9iBj3JYtcW",
      "include_colab_link": true
    },
    "kernelspec": {
      "name": "python3",
      "display_name": "Python 3"
    },
    "language_info": {
      "name": "python"
    }
  },
  "cells": [
    {
      "cell_type": "markdown",
      "metadata": {
        "id": "view-in-github",
        "colab_type": "text"
      },
      "source": [
        "<a href=\"https://colab.research.google.com/github/JoshuaMadriaga/OOP009-group4/blob/main/HOA7.1.ipynb\" target=\"_parent\"><img src=\"https://colab.research.google.com/assets/colab-badge.svg\" alt=\"Open In Colab\"/></a>"
      ]
    },
    {
      "cell_type": "code",
      "execution_count": 3,
      "metadata": {
        "colab": {
          "base_uri": "https://localhost:8080/"
        },
        "id": "6_Bfg-oq7Df3",
        "outputId": "8395b436-9a5a-4cbb-fd11-21f16afad5eb"
      },
      "outputs": [
        {
          "output_type": "stream",
          "name": "stdout",
          "text": [
            "Area of Square: 16\n",
            "Area of Equilateral Triangle: 3.897\n",
            "Area of Regular Pentagon: 43.011935025\n",
            "Area of Regular Hexagon: 41.569219376\n",
            "Area of Regular Octagon: 173.8233765\n"
          ]
        }
      ],
      "source": [
        "class RegularPolygon:\n",
        " def __init__(self, side):\n",
        "    self._side = side\n",
        "class Square(RegularPolygon):\n",
        " def area(self):\n",
        "  return self._side * self._side\n",
        "class EquilateralTriangle(RegularPolygon):\n",
        " def area(self):\n",
        "  return self._side * self._side * 0.433\n",
        "class RegularPentagon(RegularPolygon):\n",
        " def area(self):\n",
        "  return 1.720477401 * self._side ** 2\n",
        "class RegularHexagon(RegularPolygon):\n",
        " def area(self):\n",
        "  return 2.598076211 * self._side ** 2\n",
        "class RegularOctagon(RegularPolygon):\n",
        " def area(self):\n",
        "  return 4.828427125 * self._side ** 2\n",
        "# Objects instantiation\n",
        "obj1 = Square(4)\n",
        "obj2 = EquilateralTriangle(3)\n",
        "obj3 = RegularPentagon(5)\n",
        "obj4 = RegularHexagon(4)\n",
        "obj5 = RegularOctagon(6)\n",
        "# Printing areas\n",
        "print(\"Area of Square:\", obj1.area())\n",
        "print(\"Area of Equilateral Triangle:\", obj2.area())\n",
        "print(\"Area of Regular Pentagon:\", obj3.area())\n",
        "print(\"Area of Regular Hexagon:\", obj4.area())\n",
        "print(\"Area of Regular Octagon:\", obj5.area())"
      ]
    }
  ]
}